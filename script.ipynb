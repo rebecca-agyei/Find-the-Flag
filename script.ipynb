{
 "cells": [
  {
   "cell_type": "code",
   "execution_count": 1,
   "id": "28c29896",
   "metadata": {},
   "outputs": [],
   "source": [
    "import pandas as pd\n",
    "from sklearn.model_selection import train_test_split\n",
    "from sklearn.tree import DecisionTreeClassifier\n",
    "import matplotlib.pyplot as plt"
   ]
  },
  {
   "cell_type": "markdown",
   "id": "95f51921",
   "metadata": {},
   "source": [
    "<h1>Investigate the Data</h1>"
   ]
  },
  {
   "cell_type": "code",
   "execution_count": 2,
   "id": "50ec9a8d",
   "metadata": {},
   "outputs": [
    {
     "name": "stdout",
     "output_type": "stream",
     "text": [
      "Index(['Name', 'Landmass', 'Zone', 'Area', 'Population', 'Language',\n",
      "       'Religion', 'Bars', 'Stripes', 'Colors', 'Red', 'Green', 'Blue', 'Gold',\n",
      "       'White', 'Black', 'Orange', 'Mainhue', 'Circles', 'Crosses', 'Saltires',\n",
      "       'Quarters', 'Sunstars', 'Crescent', 'Triangle', 'Icon', 'Animate',\n",
      "       'Text', 'Topleft', 'Botright'],\n",
      "      dtype='object')\n",
      "             Name  Landmass  Zone  Area  Population  Language  Religion  Bars  \\\n",
      "0     Afghanistan         5     1   648          16        10         2     0   \n",
      "1         Albania         3     1    29           3         6         6     0   \n",
      "2         Algeria         4     1  2388          20         8         2     2   \n",
      "3  American-Samoa         6     3     0           0         1         1     0   \n",
      "4         Andorra         3     1     0           0         6         0     3   \n",
      "\n",
      "   Stripes  Colors  ...  Saltires  Quarters  Sunstars  Crescent  Triangle  \\\n",
      "0        3       5  ...         0         0         1         0         0   \n",
      "1        0       3  ...         0         0         1         0         0   \n",
      "2        0       3  ...         0         0         1         1         0   \n",
      "3        0       5  ...         0         0         0         0         1   \n",
      "4        0       3  ...         0         0         0         0         0   \n",
      "\n",
      "   Icon  Animate Text  Topleft  Botright  \n",
      "0     1        0    0    black     green  \n",
      "1     0        1    0      red       red  \n",
      "2     0        0    0    green     white  \n",
      "3     1        1    0     blue       red  \n",
      "4     0        0    0     blue       red  \n",
      "\n",
      "[5 rows x 30 columns]\n"
     ]
    }
   ],
   "source": [
    "flags = pd.read_csv('flags.csv', header=0)\n",
    "print(flags.columns)\n",
    "print(flags.head())"
   ]
  },
  {
   "cell_type": "markdown",
   "id": "d8a28d8a",
   "metadata": {},
   "source": [
    "<h1>Creating Your Data and Labels</h1>"
   ]
  },
  {
   "cell_type": "code",
   "execution_count": 8,
   "id": "e8ea2ebe",
   "metadata": {},
   "outputs": [],
   "source": [
    "labels = flags[['Landmass']]\n",
    "data = flags[['Red', 'Green', 'Blue', 'Gold', 'White', 'Black', 'Orange']]\n",
    "\n",
    "# Splitting these DataFrames into a training set and test set\n",
    "train_data, test_data, train_labels, test_labels = train_test_split(data, labels, random_state=1)\n"
   ]
  },
  {
   "cell_type": "markdown",
   "id": "2ca1df72",
   "metadata": {},
   "source": [
    "<h1>Make and Test the Model</h1>"
   ]
  },
  {
   "cell_type": "code",
   "execution_count": 9,
   "id": "36abda36",
   "metadata": {},
   "outputs": [
    {
     "name": "stdout",
     "output_type": "stream",
     "text": [
      "0.3469387755102041\n"
     ]
    }
   ],
   "source": [
    "tree = DecisionTreeClassifier(random_state = 1)\n",
    "tree.fit(train_data, train_labels)\n",
    "print(tree.score(test_data, test_labels))"
   ]
  },
  {
   "cell_type": "markdown",
   "id": "27855bdf",
   "metadata": {},
   "source": [
    "<h1>Tuning the Model</h1>"
   ]
  },
  {
   "cell_type": "code",
   "execution_count": 10,
   "id": "ce291faf",
   "metadata": {},
   "outputs": [
    {
     "data": {
      "text/plain": [
       "[0.3469387755102041,\n",
       " 0.22448979591836735,\n",
       " 0.3469387755102041,\n",
       " 0.32653061224489793,\n",
       " 0.3469387755102041,\n",
       " 0.3469387755102041,\n",
       " 0.3469387755102041,\n",
       " 0.3469387755102041,\n",
       " 0.3469387755102041,\n",
       " 0.3469387755102041,\n",
       " 0.3469387755102041,\n",
       " 0.3469387755102041,\n",
       " 0.3469387755102041,\n",
       " 0.3469387755102041,\n",
       " 0.3469387755102041,\n",
       " 0.3469387755102041,\n",
       " 0.3469387755102041,\n",
       " 0.3469387755102041,\n",
       " 0.3469387755102041,\n",
       " 0.3469387755102041]"
      ]
     },
     "execution_count": 10,
     "metadata": {},
     "output_type": "execute_result"
    }
   ],
   "source": [
    "scores = []\n",
    "for i in range(1,21):\n",
    "  tree = DecisionTreeClassifier(random_state = 1, max_depth = i)\n",
    "  tree.fit(train_data, train_labels)\n",
    "  score = tree.score(test_data, test_labels)\n",
    "  scores.append(score)\n",
    "scores"
   ]
  },
  {
   "cell_type": "code",
   "execution_count": 14,
   "id": "d729e9e6",
   "metadata": {},
   "outputs": [
    {
     "data": {
      "image/png": "[encoded data removed]",
      "text/plain": [
       "<Figure size 432x288 with 1 Axes>"
      ]
     },
     "metadata": {
      "needs_background": "light"
     },
     "output_type": "display_data"
    }
   ],
   "source": [
    "plt.plot(range(1,21), scores)\n",
    "plt.show()"
   ]
  },
  {
   "cell_type": "markdown",
   "id": "74f12cba",
   "metadata": {},
   "source": [
    "<h2>Adding all the features that have to do with shapes to our data</h2>"
   ]
  },
  {
   "cell_type": "code",
   "execution_count": 15,
   "id": "1f7482b2",
   "metadata": {},
   "outputs": [
    {
     "data": {
      "image/png": "[encoded data removed]",
      "text/plain": [
       "<Figure size 432x288 with 1 Axes>"
      ]
     },
     "metadata": {
      "needs_background": "light"
     },
     "output_type": "display_data"
    }
   ],
   "source": [
    "data = flags[[\"Red\", \"Green\", \"Blue\", \"Gold\",\"White\", \"Black\", \"Orange\",\"Circles\",\n",
    "\"Crosses\",\"Saltires\",\"Quarters\",\"Sunstars\",\n",
    "\"Crescent\",\"Triangle\"]]\n",
    "labels = flags[['Landmass']]\n",
    "\n",
    "train_data, test_data, train_labels, test_labels = train_test_split(data, labels, random_state=1)\n",
    "\n",
    "scores2 = []\n",
    "for i in range(1,21):\n",
    "  tree2 = DecisionTreeClassifier(random_state = 1, max_depth = i)\n",
    "  tree.fit(train_data, train_labels)\n",
    "  score = tree.score(test_data, test_labels)\n",
    "  scores2.append(score)\n",
    "    \n",
    "plt.plot(range(1,21), scores2)\n",
    "plt.show()\n",
    "\n",
    "\n"
   ]
  }
 ],
 "metadata": {
  "kernelspec": {
   "display_name": "Python 3",
   "language": "python",
   "name": "python3"
  },
  "language_info": {
   "codemirror_mode": {
    "name": "ipython",
    "version": 3
   },
   "file_extension": ".py",
   "mimetype": "text/x-python",
   "name": "python",
   "nbconvert_exporter": "python",
   "pygments_lexer": "ipython3",
   "version": "3.8.8"
  }
 },
 "nbformat": 4,
 "nbformat_minor": 5
}
